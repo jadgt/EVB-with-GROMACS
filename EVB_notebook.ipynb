{
 "cells": [
  {
   "cell_type": "code",
   "execution_count": 83,
   "metadata": {},
   "outputs": [],
   "source": [
    "import glob\n",
    "import re\n",
    "import numpy as np\n",
    "import matplotlib.pyplot as plt\n",
    "from scipy import math\n",
    "from scipy import interpolate\n",
    "from scipy.signal import argrelextrema"
   ]
  },
  {
   "cell_type": "code",
   "execution_count": 84,
   "metadata": {},
   "outputs": [],
   "source": [
    "## Some constants\n",
    "RT = 2.479 ## kJ/mol"
   ]
  },
  {
   "cell_type": "markdown",
   "metadata": {},
   "source": [
    "Here we need to try values until the activation free energy and reaction free energy matches the experimental values we are looking for. In this case we will use as reference $\\Delta G^{\\ddagger}=24.2 kcal/mol$ and $\\Delta G^{0}=-1.9 kcal/mol$ "
   ]
  },
  {
   "cell_type": "code",
   "execution_count": 85,
   "metadata": {},
   "outputs": [],
   "source": [
    "## Off-diagonal term\n",
    "H12 = 67.5 #3.842\n",
    "## Alpha shift\n",
    "alpha = 29.8 #4.3"
   ]
  },
  {
   "cell_type": "markdown",
   "metadata": {},
   "source": [
    "Here we read and plot the data from the FEP, so it does look like a reasonable energy profile"
   ]
  },
  {
   "cell_type": "code",
   "execution_count": 94,
   "metadata": {},
   "outputs": [
    {
     "data": {
      "text/plain": [
       "Text(0, 0.5, 'Free energy from FEP in kT')"
      ]
     },
     "execution_count": 94,
     "metadata": {},
     "output_type": "execute_result"
    },
    {
     "data": {
      "image/png": "[encoded data removed]",
      "text/plain": [
       "<Figure size 432x288 with 1 Axes>"
      ]
     },
     "metadata": {
      "needs_background": "light"
     },
     "output_type": "display_data"
    }
   ],
   "source": [
    "init = []\n",
    "fep_energy = []\n",
    "#fep_energy.append(0)\n",
    "#init.append(0)\n",
    "## Function to read and plot the results from the FEP\n",
    "def load_data_fep (file):\n",
    "    with open (file) as f:\n",
    "        lines = f.readlines()\n",
    "    for line in lines:\n",
    "        if (\"@\" not in line) and (\"#\" not in line) and (\" 0.0 \" not in line):\n",
    "            X = float(line.split()[0])\n",
    "            Y = float(line.split()[1])\n",
    "            init.append(X)\n",
    "            fep_energy.append(Y)\n",
    "\n",
    "## Import the FEP results\n",
    "\n",
    "filename = 'barint.xvg'\n",
    "out = load_data_fep(filename)\n",
    "l = np.linspace(init[0],init[-1],len(init)+1)\n",
    "plt.plot(init,fep_energy)\n",
    "plt.xlabel('lambda')\n",
    "plt.ylabel('Free energy from FEP in kT')"
   ]
  },
  {
   "cell_type": "markdown",
   "metadata": {},
   "source": [
    "We define now a function that reads the energies from the txt files generated from the FEP"
   ]
  },
  {
   "cell_type": "code",
   "execution_count": 87,
   "metadata": {},
   "outputs": [],
   "source": [
    "## Reading data from lambda function\n",
    "def load_data_lambda (file):\n",
    "    lambda_0=[]\n",
    "    lambda_1=[]\n",
    "    with open (file) as f:\n",
    "        lines = f.readlines()\n",
    "    for line in lines:\n",
    "        X = float(line.split()[0])\n",
    "        Y = float(line.split()[1])\n",
    "        lambda_0.append(X)\n",
    "        lambda_1.append(Y)\n",
    "    return lambda_0, lambda_1\n"
   ]
  },
  {
   "cell_type": "markdown",
   "metadata": {},
   "source": [
    "We write the EVB driver function"
   ]
  },
  {
   "cell_type": "code",
   "execution_count": 97,
   "metadata": {},
   "outputs": [],
   "source": [
    "## Definition of the EVB driver\n",
    "def evb_driver (lambda_0,lambda_1,l_val):\n",
    "    l_t = l[l_val]\n",
    "    state0 = np.array(lambda_0)\n",
    "    state1 = np.array(lambda_1)+ alpha\n",
    "    ## Averages \n",
    "    state0_av = np.average(state0)\n",
    "    state1_av = np.average(state1)\n",
    "    ## Free energy differences including alpha contribution\n",
    "    dG_01 = -RT * (-state1_av + state0_av)\n",
    "    ## Potential energies\n",
    "    e_g = 0.5*(state1_av+state0_av)-0.5*np.sqrt((state1_av-state0_av)**2+4*H12**2) #EVB potential energy\n",
    "    vi = state0_av + state1_av #-2*H12*np.sqrt(np.abs((1-l_t)*l_t)) #FEP mapping potential\n",
    "    evb = np.exp(-(e_g-vi)/RT) #Probability corrected by EVB\n",
    "    \n",
    "    ## EVB Free energy\n",
    "    dG_EVB = -RT*np.log(evb)\n",
    "    print('Done for lambda:',l_val)\n",
    "    return dG_EVB"
   ]
  },
  {
   "cell_type": "code",
   "execution_count": 98,
   "metadata": {},
   "outputs": [
    {
     "name": "stdout",
     "output_type": "stream",
     "text": [
      "Computing EVB dG per lambda...\n",
      "Done for lambda: 9\n",
      "Done for lambda: 8\n",
      "Done for lambda: 5\n",
      "Done for lambda: 4\n",
      "Done for lambda: 6\n",
      "Done for lambda: 7\n",
      "Done for lambda: 3\n",
      "Done for lambda: 2\n",
      "Done for lambda: 0\n",
      "Done for lambda: 1\n"
     ]
    }
   ],
   "source": [
    "## Calculation\n",
    "#def calc (H12,alpha): ## Future feature to auto-scan the values of H12 and alpha given a dG† and dG0 ## \n",
    "        \n",
    "evb_dG = []\n",
    "lambdas = []\n",
    "print ('Computing EVB dG per lambda...')\n",
    "## Iterate the EVB driver over all the Lambdas and sort the output in a matrix [lambda,DG]\n",
    "for fil in glob.glob('*.txt'):\n",
    "    l_val = int(re.search(r'\\d+',fil).group(0))\n",
    "    lambda_0 = load_data_lambda(fil)[0]\n",
    "    lambda_1 = load_data_lambda(fil)[1]\n",
    "    dg_evb=evb_driver (lambda_0,lambda_1, l_val)\n",
    "    evb_dG.append(dg_evb)\n",
    "    lambdas.append(l_val)\n",
    "a = np.array(evb_dG)\n",
    "b = np.array(lambdas)\n",
    "EVB_lam = np.column_stack((b,a))\n",
    "EVB_lambdas = EVB_lam[EVB_lam[:,0].argsort()]    \n",
    "    "
   ]
  },
  {
   "cell_type": "markdown",
   "metadata": {},
   "source": [
    "Integration of the free energy profile"
   ]
  },
  {
   "cell_type": "code",
   "execution_count": 90,
   "metadata": {},
   "outputs": [],
   "source": [
    "en = EVB_lambdas.T[1]\n",
    "EVB_integral = [(en[i]+en[i-1]) for i in range(1,len(en))]\n",
    "r_coord = [i for i in range(1,len(en))]"
   ]
  },
  {
   "cell_type": "markdown",
   "metadata": {},
   "source": [
    "Plotting the profile"
   ]
  },
  {
   "cell_type": "code",
   "execution_count": 100,
   "metadata": {},
   "outputs": [
    {
     "name": "stdout",
     "output_type": "stream",
     "text": [
      "Activation free energy 24.287005503593036 kCal/mol\n",
      "Reaction free energy -1.949286881651517 kCal/mol\n"
     ]
    },
    {
     "data": {
      "text/plain": [
       "Text(0, 0.5, 'Free energy in kCal/mol')"
      ]
     },
     "execution_count": 100,
     "metadata": {},
     "output_type": "execute_result"
    },
    {
     "data": {
      "image/png": "[encoded data removed]",
      "text/plain": [
       "<Figure size 432x288 with 1 Axes>"
      ]
     },
     "metadata": {
      "needs_background": "light"
     },
     "output_type": "display_data"
    }
   ],
   "source": [
    "## Smoothening the profile with a spline\n",
    "tck = interpolate.splrep (r_coord, EVB_integral,s=2)\n",
    "r = np.linspace(r_coord[1],r_coord[-1],1000,endpoint=True)\n",
    "profile_soft = interpolate.splev(r, tck, der=0)\n",
    "plt.plot(r, profile_soft+abs(min(profile_soft)))\n",
    "## Calculation of the local minima\n",
    "ind = argrelextrema(profile_soft,np.less)\n",
    "minima = profile_soft[ind]\n",
    "## Printouts for the energies\n",
    "print('Activation free energy',max(profile_soft)-minima[0],'kCal/mol')\n",
    "print('Reaction free energy',-(EVB_integral[1])+(EVB_integral[-1]),'kCal/mol')\n",
    "plt.xlabel('Reaction coordinate')\n",
    "plt.ylabel('Free energy in kCal/mol')"
   ]
  },
  {
   "cell_type": "markdown",
   "metadata": {},
   "source": [
    "Now we can save the profile and try with other solvents to see the effect"
   ]
  },
  {
   "cell_type": "code",
   "execution_count": null,
   "metadata": {},
   "outputs": [],
   "source": []
  }
 ],
 "metadata": {
  "kernelspec": {
   "display_name": "Python 3.7.12 ('modelling')",
   "language": "python",
   "name": "python3"
  },
  "language_info": {
   "codemirror_mode": {
    "name": "ipython",
    "version": 3
   },
   "file_extension": ".py",
   "mimetype": "text/x-python",
   "name": "python",
   "nbconvert_exporter": "python",
   "pygments_lexer": "ipython3",
   "version": "3.7.12"
  },
  "orig_nbformat": 4,
  "vscode": {
   "interpreter": {
    "hash": "d31c35a9ce7117041c2b17fdd2d51ffdcea37a6aad157a7d04b0b34e3e4aaf52"
   }
  }
 },
 "nbformat": 4,
 "nbformat_minor": 2
}
